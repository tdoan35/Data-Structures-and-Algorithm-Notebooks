{
 "cells": [
  {
   "cell_type": "markdown",
   "metadata": {},
   "source": [
    "<h1> Stacks </h1>\n",
    "\n",
    "<h2> Overview </h2>\n",
    "\n",
    "A stack is a linear data structure that stores items in a Last-In/First-Out (LIFO) or First-In/Last-Out(FILO) manner. In a stack, a new element is added at one end and an element is removed from that end only. The insert and delete operations are often called push and pop. \n",
    "\n",
    "<img src=\"files/images/stack.png\">\n",
    "\n",
    "<b>Implementation</b><br>\n",
    "There are various ways from which a stack can be implemented. In Python, Stacks can be implemented by using the following:\n",
    "<li>list</li>\n",
    "<li>collections.deque</li>\n",
    "<li>queue.LifoQueue</li>\n",
    "\n",
    "<h2>Pros & Cons</h2>\n",
    "\n",
    "| <b>Advantages of Stacks</b> | <b>Disadvantages of Stacks</b> |\n",
    "| :-- | :-- |\n",
    "| <li>Referencing/Manipulating items at the top of the stack is very fast at O(1)</li> | <li>Can become very slow as it grows</li> |\n",
    "|  | <li>Space needs also grow as the stack increases</li> |\n",
    "\n",
    "<h2>Big O Analysis</h2>\n",
    "\n",
    "| <b>Operation</b> | <b>Time Complexity</b> | <b>Explanation</b> | <b>Space Complexity</b> |\n",
    "| :-- | :-- | :-- | :-- |\n",
    "| Empty | O(1) | Returns whether the stack is empty | O(n) |\n",
    "| Size | O(1) | Returns the size of the stack | O(n) |\n",
    "| Top | O(1) | Returns a reference to the top most element of the stack | O(n) |\n",
    "| Push | O(1) | Adds the argument element to the top of the stack | O(n) |\n",
    "| Pop | O(1) | Deletes the top most element of the stack | O(n) |"
   ]
  },
  {
   "cell_type": "markdown",
   "metadata": {},
   "source": [
    "<h3>Simple Implementation of a Stack:</h3>\n",
    "Stack implementation using an array"
   ]
  },
  {
   "cell_type": "code",
   "execution_count": 2,
   "metadata": {},
   "outputs": [
    {
     "name": "stdout",
     "output_type": "stream",
     "text": [
      "Initial stack:\n",
      "['a', 'b', 'c', 'd', 'e']\n",
      "\n",
      "Elements popped from the stack:\n",
      "e\n",
      "d\n",
      "c\n",
      "\n",
      "Stack after elements are popped:\n",
      "['a', 'b']\n"
     ]
    }
   ],
   "source": [
    "# Simple Implementation of a stack\n",
    "\n",
    "stack = []\n",
    "\n",
    "# Append() function to push element to the top of the stack\n",
    "stack.append('a')\n",
    "stack.append('b')\n",
    "stack.append('c')\n",
    "stack.append('d')\n",
    "stack.append('e')\n",
    "\n",
    "print('Initial stack:')\n",
    "print(stack)\n",
    "\n",
    "# Pop() function to pop elements from the stack in Last-In/First-Out (LIFO) Order\n",
    "print('\\nElements popped from the stack:')\n",
    "print(stack.pop())\n",
    "print(stack.pop())\n",
    "print(stack.pop())\n",
    "\n",
    "print('\\nStack after elements are popped:')\n",
    "print(stack)"
   ]
  },
  {
   "cell_type": "code",
   "execution_count": null,
   "metadata": {},
   "outputs": [],
   "source": []
  }
 ],
 "metadata": {
  "kernelspec": {
   "display_name": "Python 3",
   "language": "python",
   "name": "python3"
  },
  "language_info": {
   "codemirror_mode": {
    "name": "ipython",
    "version": 3
   },
   "file_extension": ".py",
   "mimetype": "text/x-python",
   "name": "python",
   "nbconvert_exporter": "python",
   "pygments_lexer": "ipython3",
   "version": "3.8.5"
  }
 },
 "nbformat": 4,
 "nbformat_minor": 4
}
