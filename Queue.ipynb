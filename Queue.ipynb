{
 "cells": [
  {
   "cell_type": "markdown",
   "metadata": {},
   "source": [
    "<h1> Queue </h1>\n",
    "\n",
    "<h2> Overview </h2>\n",
    "\n",
    "A Queue is a linear structure which follows a particular order in which the operations are performed. The order is First-In/First-Out (FIFO). A good example of a queue is any queue of consumers for a resource where the consumer that came first is served first. The difference between stacks and queues is in <b>removing</b>. In a stack we remove the item the most recently added; in a queue, we remove the item the least recently added.\n",
    "\n",
    "<img src=\"files/images/Queue.png\">\n",
    "\n",
    "<b>Implementation</b><br>\n",
    "For implementing queue, we need to keep track of two indices, front and rear. We enqueue an item at the rear and dequeue an item from the front. If we simply increment front and rear indices, then there may be problems, the front may reach the end of the array. The solution to this problem is to increase front and rear in circular manner.\n",
    "\n",
    "<h2>Pros & Cons</h2>\n",
    "\n",
    "| <b>Advantages of Stacks</b> | <b>Disadvantages of Stacks</b> |\n",
    "| :-- | :-- |\n",
    "| <li>Allows for resources to be shared among multiple consumers</li> | <li>Time needs grow as the queue increases</li> |\n",
    "| <li>Allows for data to be transferred asynchronously</li> | <li>Queue needs also grow as the stack increases</li> |\n",
    "\n",
    "<h2>Big O Analysis</h2>\n",
    "\n",
    "| <b>Operation</b> | <b>Time Complexity</b> | <b>Explanation</b> | <b>Space Complexity</b> |\n",
    "| :-- | :-- | :-- | :-- |\n",
    "| Enque | O(1) | Insertion: add an element to the beginning of the queue | O(n) |\n",
    "| Deque | O(1) | Deletion: delete the last element at the end of the queue | O(n) |\n",
    "| Front | O(1) | Returns a reference to the first element of the queue | O(n) |\n",
    "| Rear | O(1) | Returns a reference to the last element of the queue | O(n) |"
   ]
  },
  {
   "cell_type": "markdown",
   "metadata": {},
   "source": [
    "<h3>Simple Implementation of a Queue:</h3>\n",
    "Queue implementation using an array\n",
    "\n",
    "| <b>Advantages of Array Implementation</b> | <b>Disadvantages of Array Implementation</b> |\n",
    "| :-- | :-- |\n",
    "| <li>Easy to implement</li> | <li>Static Data Structure, fixed size</li> |\n",
    "|  | <li>If the queue has a large number of enqueue and dequeue operations, at some point it may not be able to insert elements in the queue even if the queue is empty</li> |"
   ]
  },
  {
   "cell_type": "code",
   "execution_count": 1,
   "metadata": {},
   "outputs": [
    {
     "name": "stdout",
     "output_type": "stream",
     "text": [
      "10 enqueued to queue\n",
      "20 enqueued to queue\n",
      "30 enqueued to queue\n",
      "40 enqueued to queue\n",
      "10 dequeued from queue\n",
      "Front item is 20\n",
      "Rear item is 40\n"
     ]
    }
   ],
   "source": [
    "# Simple Implemementation of a Queue\n",
    "\n",
    "# Class Queue to represent a queue\n",
    "class Queue:\n",
    "    \n",
    "    # __init__ function\n",
    "    def __init__(self, capacity):\n",
    "        self.front = self.size = 0\n",
    "        self.rear = capacity - 1\n",
    "        self.Q = [None]*capacity\n",
    "        self.capacity = capacity\n",
    "        \n",
    "    # Queue is full when size becomes equal to the capacity\n",
    "    def isFull(self):\n",
    "        return self.size == self.capacity\n",
    "    \n",
    "    # Queue is empty when size is 0\n",
    "    def isEmpty(self):\n",
    "        return self.size == 0\n",
    "    \n",
    "    # Function to add an item to the Queue\n",
    "    # It changes the rear and size\n",
    "    def EnQueue(self, item):\n",
    "        if self.isFull():\n",
    "            print(\"Full\")\n",
    "            return\n",
    "        self.rear = (self.rear + 1) % (self.capacity)\n",
    "        self.Q[self.rear] = item\n",
    "        self.size = self.size + 1\n",
    "        print(\"% s enqueued to queue\"  % str(item))\n",
    "        \n",
    "    # Function to remove an item from Queue\n",
    "    # It changes the front and size\n",
    "    def DeQueue(self):\n",
    "        if self.isEmpty():\n",
    "            print(\"Empty\")\n",
    "            return        \n",
    "        print(\"% s dequeued from queue\" % str(self.Q[self.front]))\n",
    "        self.front = (self.front + 1) % (self.capacity)\n",
    "        self.size = self.size - 1\n",
    "        \n",
    "    # Function to get element in the front of Queue\n",
    "    def que_front(self):\n",
    "        if self.isEmpty():\n",
    "            print(\"Queue is empty\")\n",
    "            \n",
    "        print(\"Front item is\", self.Q[self.front])\n",
    "        \n",
    "    # Function to get element in the rear of Queue\n",
    "    def que_rear(self):\n",
    "        if self.isEmpty():\n",
    "            print(\"Queue is empty\")\n",
    "        print(\"Rear item is\",  self.Q[self.rear])\n",
    "        \n",
    "        \n",
    "        \n",
    "# Driver Code\n",
    "if __name__ == '__main__':\n",
    "\n",
    "    queue = Queue(30) \n",
    "    queue.EnQueue(10) \n",
    "    queue.EnQueue(20) \n",
    "    queue.EnQueue(30) \n",
    "    queue.EnQueue(40) \n",
    "    queue.DeQueue() \n",
    "    queue.que_front() \n",
    "    queue.que_rear()"
   ]
  },
  {
   "cell_type": "code",
   "execution_count": null,
   "metadata": {},
   "outputs": [],
   "source": []
  }
 ],
 "metadata": {
  "kernelspec": {
   "display_name": "Python 3",
   "language": "python",
   "name": "python3"
  },
  "language_info": {
   "codemirror_mode": {
    "name": "ipython",
    "version": 3
   },
   "file_extension": ".py",
   "mimetype": "text/x-python",
   "name": "python",
   "nbconvert_exporter": "python",
   "pygments_lexer": "ipython3",
   "version": "3.8.5"
  }
 },
 "nbformat": 4,
 "nbformat_minor": 4
}
