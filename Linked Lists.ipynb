{
 "cells": [
  {
   "attachments": {
    "Linkedlist.png": {
     "image/png": "[encoded data removed]"
    }
   },
   "cell_type": "markdown",
   "metadata": {},
   "source": [
    "<h1> Linked Lists </h1>\n",
    "\n",
    "<h2> Overview </h2>\n",
    "\n",
    "Like arrays, Linked List is a linear data structure. Unlike arrays, linked list elements are not stored at a contiguous location; the elements are linked using pointers.\n",
    "\n",
    "A Linked List is a linear data structure, where elements are stored at non-contiguous locations. A Linked list is like a chain made of <b>nodes</b> and the links are <b>pointers</b>.\n",
    "\n",
    "<b>Pointers are the connections</b> that hold the pieces of linked structures together. Pointers represent <b>the address of a location</b> in memory.\n",
    "\n",
    "![Linkedlist.png](attachment:Linkedlist.png)\n",
    "\n",
    "<li>Singly Linked List: node has one pointer linking to one next node in one direction</li>\n",
    "<li>Doubly Linked List: node has two pointers linking to one to the previous node and one to the next node in two direction (prev/next)</li>\n",
    "<li>Circularly Linked List: end nodes points to the front node</li>\n",
    "\n",
    "<h2>Pros & Cons</h2>\n",
    "\n",
    "| <b>Advantages of Linked List</b> | <b>Disadvantages of Linked List</b> |\n",
    "| :-- | :-- |\n",
    "| <li>Dynamic Size (there is no need to ever resize a LL</li> | <li>Very Slow when it comes to <b>Access</b> and <b>Search</b> we have to iterate over each element</li> |\n",
    "| <li>Quick Insertion/ Deletion of Nodes because you just change the pointers of each node to insert/delete</li> | <li>Extra space for pointer</li> |\n",
    "\n",
    "\n",
    "<h2>Big O Analysis</h2>\n",
    "\n",
    "| <b>Operation</b> | <b>Time Complexity</b> | <b>Explanation</b> | <b>Space Complexity</b> |\n",
    "| :-- | :-- | :-- | :-- |\n",
    "| Insertion | O(1) | You just change the pointers of each node to insert | O(n) |\n",
    "| Deletion | O(1) | You just change the pointers of each node to delete | O(n) |\n",
    "| Access | O(n) | We have to iterate over each node sequentially starting from the first node (head) to access the target node | O(n) |\n",
    "| Search | O(n) | We have to iterate over each node sequentially starting from the first node (head) to access the target node | O(n) |"
   ]
  },
  {
   "cell_type": "markdown",
   "metadata": {},
   "source": [
    "<h3>Simple Implementation of a Singly Linked List:</h3>"
   ]
  },
  {
   "cell_type": "code",
   "execution_count": 1,
   "metadata": {},
   "outputs": [],
   "source": [
    "# Simple Singly Linked List\n",
    "\n",
    "# Node Class\n",
    "class Node:\n",
    "    \n",
    "    # Function to initialize the node object\n",
    "    def __init__(self, data):\n",
    "        self.data = data # Assign data\n",
    "        self.next = None # Initialize next as null\n",
    "            \n",
    "# Linked List Class\n",
    "class LinkedList:\n",
    "        \n",
    "    # Function to initialize head\n",
    "    def __init__(self):\n",
    "        self.head = None\n",
    "\n",
    "    # This function prints contents of linked list from head\n",
    "    def printList(self):\n",
    "        temp = self.head\n",
    "        while (temp):\n",
    "            print (temp.data)\n",
    "            temp = temp.next\n",
    "        "
   ]
  },
  {
   "cell_type": "markdown",
   "metadata": {},
   "source": [
    "<h3>Traversal of a Singly Linked List</h3>"
   ]
  },
  {
   "cell_type": "code",
   "execution_count": 2,
   "metadata": {},
   "outputs": [
    {
     "name": "stdout",
     "output_type": "stream",
     "text": [
      "1\n",
      "2\n",
      "3\n"
     ]
    }
   ],
   "source": [
    "# Code Execution starts here\n",
    "if __name__=='__main__':\n",
    "\n",
    "    # Start with the empty list\n",
    "    llist = LinkedList()\n",
    "\n",
    "    # Initialize Each Node, starting with the head of the Linked List\n",
    "    llist.head = Node(1)\n",
    "    second = Node(2)\n",
    "    third = Node(3)\n",
    "\n",
    "    # Link first node with second\n",
    "    llist.head.next = second; \n",
    "\n",
    "    # Link second node with the third node\n",
    "    second.next = third; \n",
    "\n",
    "    # Traverse the Linked List and print each node\n",
    "    llist.printList()"
   ]
  },
  {
   "cell_type": "markdown",
   "metadata": {},
   "source": [
    "<h3>Insertion</h3>\n",
    "<br>\n",
    "Time Complexity: O(1) \n",
    "<br>\n",
    "Space Complexity: O(n)\n",
    "<br>\n",
    "<br>\n",
    "<li><b>Push:</b> Insert a new node at the beginning</li>\n",
    "<img src=\"files/images/Linkedlist_insert_at_start.png\">\n",
    "<li><b>insertAfter:</b> Insert a new node after a specified node</li>\n",
    "<img src=\"files/images/Linkedlist_insert_middle.png\">\n",
    "<li><b>Append:</b> Insert a new node at the end of the linked list</li>\n",
    "<img src=\"files/images/Linkedlist_insert_last.png\">"
   ]
  },
  {
   "cell_type": "code",
   "execution_count": null,
   "metadata": {},
   "outputs": [],
   "source": [
    "# Linked List Class\n",
    "class LinkedList:\n",
    "    \n",
    "    # Function to push a new node at the beginning \n",
    "    def push(self, new_data):\n",
    "        \n",
    "        # Create a new Node\n",
    "        new_node = Node(new_data)\n",
    "        \n",
    "        # Set the new node's pointer to the head of the Linked List\n",
    "        new_node.next = self.head\n",
    "        \n",
    "        # Set the new node as the head of the Linked List\n",
    "        self.head = new_node\n",
    "        \n",
    "    # Function to insert a new node at the target location\n",
    "    def insertAfter(self, prev_node, new_data):\n",
    "        \n",
    "        # Check to see if previous node exists\n",
    "        if prev_node is None:\n",
    "            print(\"The given previous node must be in Linked List\")\n",
    "            return\n",
    "        \n",
    "        # Initialize a new node with the input data\n",
    "        new_node = Node(new_data)\n",
    "        \n",
    "        # Set the new node's pointer to the previous node's pointer\n",
    "        new_node.next = prev_node.next\n",
    "        \n",
    "        # Set the previous node's pointer to the new node\n",
    "        prev_node.next = new_node"
   ]
  },
  {
   "cell_type": "markdown",
   "metadata": {},
   "source": [
    "<h3>Deletion</h3>\n",
    "<br>\n",
    "Time Complexity: O(1)\n",
    "<br>\n",
    "Space Complexity: O(n)\n",
    "<br>\n",
    "<br>\n",
    "<li><b>deleteNode:</b> Deleting a node of a linked list given the head of the list and target key</li>\n",
    "<img src=\"files/images/Linkedlist_deletion.png\">"
   ]
  },
  {
   "cell_type": "code",
   "execution_count": null,
   "metadata": {},
   "outputs": [],
   "source": [
    "# Linked List Class\n",
    "class LinkedList:\n",
    "    \n",
    "    # Function to delete a key in a Linked List, given the head of the list and target key\n",
    "    def delete(self, key):\n",
    "        \n",
    "        # Store the head node\n",
    "        temp = self.head\n",
    "        \n",
    "        # If head node itself hold the key to be deleted, delete it\n",
    "        if (temp is not None):\n",
    "            if (temp.data == key):\n",
    "                self.head = temp.next\n",
    "                temp = None\n",
    "                return\n",
    "            \n",
    "        # Search for the key to be deleted, keep track of the previous node\n",
    "        # Once the target key is found, change the previous node's pointer to the next node's pointer to delete\n",
    "        while(temp is not None):\n",
    "            if temp.data == key:\n",
    "                break\n",
    "            prev = temp\n",
    "            temp = temp.next\n",
    "            \n",
    "        # If key was not present in the linked list\n",
    "        if(temp == None):\n",
    "            return\n",
    "        \n",
    "        # Unlink the node from the linked list\n",
    "        prev.next = temp.next\n",
    "        \n",
    "        temp = None"
   ]
  }
 ],
 "metadata": {
  "kernelspec": {
   "display_name": "Python 3",
   "language": "python",
   "name": "python3"
  },
  "language_info": {
   "codemirror_mode": {
    "name": "ipython",
    "version": 3
   },
   "file_extension": ".py",
   "mimetype": "text/x-python",
   "name": "python",
   "nbconvert_exporter": "python",
   "pygments_lexer": "ipython3",
   "version": "3.8.5"
  }
 },
 "nbformat": 4,
 "nbformat_minor": 4
}
